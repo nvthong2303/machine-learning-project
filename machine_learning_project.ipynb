{
  "nbformat": 4,
  "nbformat_minor": 0,
  "metadata": {
    "colab": {
      "name": "machine  learning project.ipynb",
      "provenance": [],
      "collapsed_sections": [],
      "mount_file_id": "1G0qDJ7SPB-LvO1Y0sqU9k0E-uDlyLPvX",
      "authorship_tag": "ABX9TyOh9t6zaCeB9knFV48vnscw",
      "include_colab_link": true
    },
    "kernelspec": {
      "name": "python3",
      "display_name": "Python 3"
    },
    "language_info": {
      "name": "python"
    }
  },
  "cells": [
    {
      "cell_type": "markdown",
      "metadata": {
        "id": "view-in-github",
        "colab_type": "text"
      },
      "source": [
        "<a href=\"https://colab.research.google.com/github/nvthong2303/machine-learning-project/blob/main/machine_learning_project.ipynb\" target=\"_parent\"><img src=\"https://colab.research.google.com/assets/colab-badge.svg\" alt=\"Open In Colab\"/></a>"
      ]
    },
    {
      "cell_type": "markdown",
      "source": [
        "tải xuống dataset cho quá trình huấn luyện mô hình"
      ],
      "metadata": {
        "id": "NcncEcb5f9oh"
      }
    },
    {
      "cell_type": "code",
      "execution_count": null,
      "metadata": {
        "id": "k8HQPviifuxc",
        "colab": {
          "base_uri": "https://localhost:8080/"
        },
        "outputId": "9c1ce4d3-9e84-455f-a56e-5112a22900f8"
      },
      "outputs": [
        {
          "output_type": "stream",
          "name": "stdout",
          "text": [
            "Downloading data from https://storage.googleapis.com/tensorflow/tf-keras-datasets/mnist.npz\n",
            "11493376/11490434 [==============================] - 0s 0us/step\n",
            "11501568/11490434 [==============================] - 0s 0us/step\n"
          ]
        }
      ],
      "source": [
        "from tensorflow.keras.datasets import mnist\n",
        "from matplotlib import pyplot as plt\n",
        "\n",
        "# tải dữ liệu từ api keras\n",
        "(trainX, trainY), (testX, testY) = mnist.load_data()"
      ]
    },
    {
      "cell_type": "markdown",
      "source": [
        "xử lý dữ liệu vừa tải xuống"
      ],
      "metadata": {
        "id": "q0D_znVggNIo"
      }
    },
    {
      "cell_type": "code",
      "source": [
        "trainX = trainX.reshape((trainX.shape[0], 28, 28, 1))\n",
        "testX = testX.reshape((testX.shape[0], 28, 28, 1))"
      ],
      "metadata": {
        "id": "5AB-Hvq2hUaB"
      },
      "execution_count": null,
      "outputs": []
    },
    {
      "cell_type": "code",
      "source": [
        "from tensorflow.keras.utils import to_categorical\n",
        "\n",
        "trainY = to_categorical(trainY)\n",
        "testY = to_categorical(testY)"
      ],
      "metadata": {
        "id": "aCFl7SXPgvpq"
      },
      "execution_count": null,
      "outputs": []
    },
    {
      "cell_type": "code",
      "source": [
        "trainX = trainX.astype('float32')\n",
        "testX = testX.astype('float32')\n",
        "trainX = trainX / 255.0\n",
        "testX = testX / 255.0"
      ],
      "metadata": {
        "id": "6j9gRn1VgQfY"
      },
      "execution_count": null,
      "outputs": []
    },
    {
      "cell_type": "markdown",
      "source": [
        "định nghĩa model"
      ],
      "metadata": {
        "id": "X3dDrJ-3gdqY"
      }
    },
    {
      "cell_type": "code",
      "source": [
        "from tensorflow.keras.models import Sequential\n",
        "from tensorflow.keras.layers import Conv2D\n",
        "from tensorflow.keras.layers import MaxPooling2D\n",
        "from tensorflow.keras.layers import Dense\n",
        "from tensorflow.keras.layers import Flatten\n",
        "from tensorflow.keras.optimizers import SGD\n",
        "import keras\n",
        "import tensorflow as tf \n",
        "from keras.layers import Dropout\n",
        "from keras import backend as K\n",
        "from keras.utils import np_utils\n",
        "\n",
        "def define_model():\n",
        "\tmodel = Sequential()\n",
        "\tmodel.add(Conv2D(32, (3, 3), activation='relu', input_shape=(28, 28, 1)))\n",
        "\tmodel.add(MaxPooling2D((2, 2)))\n",
        "\tmodel.add(Flatten())\n",
        "\tmodel.add(Dense(100, activation='relu'))\n",
        "\tmodel.add(Dense(10, activation='softmax'))\n",
        "\n",
        "\topt = SGD(learning_rate=0.01, momentum=0.9)\n",
        "\tmodel.compile(loss=keras.losses.categorical_crossentropy,optimizer=tf.optimizers.Adam(),metrics=['accuracy'])\n",
        "\treturn model"
      ],
      "metadata": {
        "id": "HFc1CJlR8T_Q"
      },
      "execution_count": 117,
      "outputs": []
    },
    {
      "cell_type": "markdown",
      "source": [
        "biểu diễn figure"
      ],
      "metadata": {
        "id": "ysY2Cy6n_gI4"
      }
    },
    {
      "cell_type": "code",
      "source": [
        "from numpy import mean\n",
        "from numpy import std\n",
        "\n",
        "def summarize_diagnostics(histories):\n",
        "\tfor i in range(len(histories)):\n",
        "\t\t# plot loss\n",
        "\t\tplt.subplot(2, 1, 1)\n",
        "\t\tplt.title('Cross Entropy Loss')\n",
        "\t\tplt.plot(histories[i].history['loss'], color='blue', label='train')\n",
        "\t\tplt.plot(histories[i].history['val_loss'], color='orange', label='test')\n",
        "\t\t# plot accuracy\n",
        "\t\tplt.subplot(2, 1, 2)\n",
        "\t\tplt.title('Classification Accuracy')\n",
        "\t\tplt.plot(histories[i].history['accuracy'], color='blue', label='train')\n",
        "\t\tplt.plot(histories[i].history['val_accuracy'], color='orange', label='test')\n",
        "\tplt.show()"
      ],
      "metadata": {
        "id": "tGKaHkql_faA"
      },
      "execution_count": 105,
      "outputs": []
    },
    {
      "cell_type": "markdown",
      "source": [
        "đánh giá mô hình"
      ],
      "metadata": {
        "id": "F7peBy628c-I"
      }
    },
    {
      "cell_type": "code",
      "source": [
        "from sklearn.model_selection import KFold\n",
        "\n",
        "def evaluate_model(dataX, dataY, n_folds=5):\n",
        "    scores, histories = list(), list()\n",
        "    # prepare cross validation\n",
        "    kfold = KFold(n_folds, shuffle=True, random_state=1)\n",
        "    # enumerate splits\n",
        "    for train_ix, test_ix in kfold.split(dataX):\n",
        "        # define model\n",
        "        model = define_model()\n",
        "        # select rows for train and test\n",
        "        trainX, trainY, testX, testY = dataX[train_ix], dataY[train_ix], dataX[test_ix], dataY[test_ix]\n",
        "        # fit model\n",
        "        history = model.fit(trainX, trainY, epochs=10, batch_size=32, validation_data=(testX, testY), verbose=0)\n",
        "        # evaluate model\n",
        "        _, acc = model.evaluate(testX, testY, verbose=0)\n",
        "\n",
        "        print('> %.3f' % (acc * 100.0))\n",
        "\n",
        "        scores.append(acc)\n",
        "        histories.append(history)\n",
        "        # stores scores\n",
        "        model.save('final_model.h5')\n",
        "        \n",
        "    return scores, histories\n",
        " \n",
        "scores, histories = evaluate_model(trainX, trainY);"
      ],
      "metadata": {
        "colab": {
          "base_uri": "https://localhost:8080/"
        },
        "id": "v3Vi74iB8feP",
        "outputId": "9e67453b-6044-40f3-dddd-812e3884d5c7"
      },
      "execution_count": 102,
      "outputs": [
        {
          "output_type": "stream",
          "name": "stdout",
          "text": [
            "> 98.450\n",
            "> 98.125\n",
            "> 98.383\n",
            "> 98.392\n",
            "> 98.642\n"
          ]
        }
      ]
    },
    {
      "cell_type": "code",
      "source": [
        "summarize_diagnostics(histories)"
      ],
      "metadata": {
        "colab": {
          "base_uri": "https://localhost:8080/",
          "height": 370
        },
        "id": "XoB-UxifBik4",
        "outputId": "cbfe2b04-f443-4597-db24-0573a5a30045"
      },
      "execution_count": 106,
      "outputs": [
        {
          "output_type": "stream",
          "name": "stderr",
          "text": [
            "/usr/local/lib/python3.7/dist-packages/ipykernel_launcher.py:7: MatplotlibDeprecationWarning: Adding an axes using the same arguments as a previous axes currently reuses the earlier instance.  In a future version, a new instance will always be created and returned.  Meanwhile, this warning can be suppressed, and the future behavior ensured, by passing a unique label to each axes instance.\n",
            "  import sys\n",
            "/usr/local/lib/python3.7/dist-packages/ipykernel_launcher.py:12: MatplotlibDeprecationWarning: Adding an axes using the same arguments as a previous axes currently reuses the earlier instance.  In a future version, a new instance will always be created and returned.  Meanwhile, this warning can be suppressed, and the future behavior ensured, by passing a unique label to each axes instance.\n",
            "  if sys.path[0] == '':\n"
          ]
        },
        {
          "output_type": "display_data",
          "data": {
            "image/png": "[encoded data removed]",
            "text/plain": [
              "<Figure size 432x288 with 2 Axes>"
            ]
          },
          "metadata": {
            "needs_background": "light"
          }
        }
      ]
    },
    {
      "cell_type": "markdown",
      "source": [
        "đánh giá mô hình bằng bộ test từ mnist"
      ],
      "metadata": {
        "id": "3bSXm07jADkg"
      }
    },
    {
      "cell_type": "code",
      "source": [
        "from tensorflow.keras.models import load_model\n",
        "\n",
        "def run_test_harness():\n",
        "\t# load model\n",
        "\tmodel = load_model('final_model.h5')\n",
        "\t# evaluate model on test dataset\n",
        "\t_, acc = model.evaluate(testX, testY, verbose=0)\n",
        "\tprint('> %.3f' % (acc * 100.0))\n",
        "\t\n",
        " \n",
        "# entry point, run the test harness\n",
        "run_test_harness()"
      ],
      "metadata": {
        "colab": {
          "base_uri": "https://localhost:8080/"
        },
        "id": "6Tjq9S3tBmA_",
        "outputId": "570f8dd2-6dc7-4752-f981-b94fc0297c25"
      },
      "execution_count": 107,
      "outputs": [
        {
          "output_type": "stream",
          "name": "stdout",
          "text": [
            "> 98.620\n"
          ]
        }
      ]
    },
    {
      "cell_type": "markdown",
      "source": [
        "đưa ra dự đoán với mô hình sau khi cải thiện\n",
        "\n",
        "dự đoán 1 bức ảnh đầu vào :"
      ],
      "metadata": {
        "id": "tKw1xxSJCgNA"
      }
    },
    {
      "cell_type": "code",
      "source": [
        "# make a prediction for a new image.\n",
        "from numpy import argmax\n",
        "from keras.preprocessing.image import load_img\n",
        "from keras.preprocessing.image import img_to_array\n",
        "from keras.models import load_model\n",
        "from pandas import DataFrame\n",
        "import numpy as np\n",
        "\n",
        "imgname = 'number 7.png'\n",
        "\n",
        "\n",
        "# load and prepare the image\n",
        "def load_image(filename):\n",
        "\timg = load_img(filename, grayscale=True, target_size=(28, 28))\n",
        "\timg = img_to_array(img)\n",
        "\timg = img.reshape(1, 28, 28, 1)\n",
        "\timg = img.astype('float32')\n",
        "\timg = img / 255.0\n",
        "\treturn img\n",
        " \n",
        "def run_example():\n",
        "\timg = load_image(imgname)\n",
        "\tmodel = load_model('final_model.h5')\n",
        "\tpredict_value = model.predict(img)\n",
        "\tdigit = argmax(predict_value)\n",
        " \t\n",
        "\t# plt.imshow(img.reshape(28,28), cmap=plt.get_cmap('gray'))\n",
        "\tprint(predict_value)\n",
        "\tprint(digit)\n",
        "\tdata = list(predict_value)\n",
        "\tnewdata = np.squeeze(data)\n",
        "\n",
        "\tlistnum = ['0','1', '2','3','4','5','6','7','8','9']\n",
        "\tfig = plt.figure(figsize = (10, 7), dpi=80)\n",
        "\tplt.bar(listnum, newdata, color ='maroon',width = 1)\n",
        "\tplt.xlabel(\"Số\")\n",
        "\tplt.ylabel(\"Acc\")\n",
        "\tplt.title(\"Biểu đồ tương quan\")\n",
        "\tplt.show()\n",
        "\n",
        "def show_image():\n",
        "\timg = load_image(imgname)\n",
        "\tplt.imshow(img.reshape(28,28), cmap=plt.get_cmap('gray'))\n",
        " \n",
        "run_example()\n",
        "show_image()"
      ],
      "metadata": {
        "colab": {
          "base_uri": "https://localhost:8080/",
          "height": 840
        },
        "id": "q1O9ofneCpN3",
        "outputId": "2d9b8d77-59ce-4cd6-b9a4-b7cc16db5426"
      },
      "execution_count": 139,
      "outputs": [
        {
          "output_type": "stream",
          "name": "stderr",
          "text": [
            "/usr/local/lib/python3.7/dist-packages/keras_preprocessing/image/utils.py:107: UserWarning: grayscale is deprecated. Please use color_mode = \"grayscale\"\n",
            "  warnings.warn('grayscale is deprecated. Please use '\n"
          ]
        },
        {
          "output_type": "stream",
          "name": "stdout",
          "text": [
            "[[1.0454071e-06 9.5093864e-01 7.2695827e-03 3.4896271e-05 3.7025700e-06\n",
            "  7.3857086e-07 3.0907110e-08 1.2381942e-02 2.9368408e-02 9.4688704e-07]]\n",
            "1\n"
          ]
        },
        {
          "output_type": "display_data",
          "data": {
            "image/png": "[encoded data removed]",
            "text/plain": [
              "<Figure size 800x560 with 1 Axes>"
            ]
          },
          "metadata": {
            "needs_background": "light"
          }
        },
        {
          "output_type": "display_data",
          "data": {
            "image/png": "[encoded data removed]",
            "text/plain": [
              "<Figure size 432x288 with 1 Axes>"
            ]
          },
          "metadata": {
            "needs_background": "light"
          }
        }
      ]
    },
    {
      "cell_type": "markdown",
      "source": [
        "cải thiện model"
      ],
      "metadata": {
        "id": "-fnTRJHq8w2R"
      }
    },
    {
      "cell_type": "code",
      "source": [
        "from tensorflow.keras.models import Sequential\n",
        "from tensorflow.keras.layers import Conv2D\n",
        "from tensorflow.keras.layers import MaxPooling2D\n",
        "from tensorflow.keras.layers import Dense\n",
        "from tensorflow.keras.layers import Flatten\n",
        "from tensorflow.keras.optimizers import SGD\n",
        "import keras\n",
        "import tensorflow as tf \n",
        "from keras.layers import Dropout\n",
        "from keras import backend as K\n",
        "from keras.utils import np_utils\n",
        "\n",
        "input_shape = (28, 28, 1)\n",
        "batch_size = 128\n",
        "num_classes = 10\n",
        "epochs = 10\n",
        "\n",
        "def define_model_new():\n",
        "\tmodel = Sequential()\n",
        "\tmodel.add(Conv2D(32, kernel_size=(5, 5),activation='relu',input_shape=input_shape))\n",
        "\tmodel.add(MaxPooling2D(pool_size=(2, 2)))\n",
        "\tmodel.add(Conv2D(64, (3, 3), activation='relu'))\n",
        "\tmodel.add(MaxPooling2D(pool_size=(2, 2)))\n",
        "\tmodel.add(Flatten())\n",
        "\tmodel.add(Dense(128, activation='relu'))\n",
        "\tmodel.add(Dropout(0.3))\n",
        "\tmodel.add(Dense(64, activation='relu'))\n",
        "\tmodel.add(Dropout(0.5))\n",
        "\tmodel.add(Dense(10, activation='softmax'))\n",
        " \n",
        "\tmodel.compile(loss=keras.losses.categorical_crossentropy,optimizer=tf.optimizers.Adam(),metrics=['accuracy'])\n",
        "\treturn model"
      ],
      "metadata": {
        "id": "VZOCMzC6gfXQ"
      },
      "execution_count": 115,
      "outputs": []
    },
    {
      "cell_type": "markdown",
      "source": [
        "đánh giá mô hình với model mới"
      ],
      "metadata": {
        "id": "42ahxD8FlnJh"
      }
    },
    {
      "cell_type": "code",
      "source": [
        "from sklearn.model_selection import KFold\n",
        "\n",
        "def evaluate_model(dataX, dataY, n_folds=5):\n",
        "    scores, histories = list(), list()\n",
        "    # prepare cross validation\n",
        "    kfold = KFold(n_folds, shuffle=True, random_state=1)\n",
        "    # enumerate splits\n",
        "    for train_ix, test_ix in kfold.split(dataX):\n",
        "        # define model\n",
        "        model = define_model_new()\n",
        "        # select rows for train and test\n",
        "        trainX, trainY, testX, testY = dataX[train_ix], dataY[train_ix], dataX[test_ix], dataY[test_ix]\n",
        "        # fit model\n",
        "        history = model.fit(trainX, trainY, epochs=10, batch_size=32, validation_data=(testX, testY), verbose=0)\n",
        "        # evaluate model\n",
        "        _, acc = model.evaluate(testX, testY, verbose=0)\n",
        "\n",
        "        print('> %.3f' % (acc * 100.0))\n",
        "\n",
        "        scores.append(acc)\n",
        "        histories.append(history)\n",
        "        # stores scores\n",
        "        model.save('final_model_new.h5')\n",
        "        \n",
        "    return scores, histories\n",
        " \n",
        "scores, histories = evaluate_model(trainX, trainY);"
      ],
      "metadata": {
        "colab": {
          "base_uri": "https://localhost:8080/"
        },
        "id": "e9mDIC8yloeR",
        "outputId": "cfae319a-2080-448b-b674-e845c85e929f"
      },
      "execution_count": 116,
      "outputs": [
        {
          "output_type": "stream",
          "name": "stdout",
          "text": [
            "> 99.183\n",
            "> 99.150\n",
            "> 98.775\n",
            "> 99.242\n",
            "> 99.042\n"
          ]
        }
      ]
    },
    {
      "cell_type": "code",
      "source": [
        "summarize_diagnostics(histories)"
      ],
      "metadata": {
        "colab": {
          "base_uri": "https://localhost:8080/",
          "height": 370
        },
        "id": "eBIlrALXD6np",
        "outputId": "e9bf2247-6166-4f7c-c6b3-c23754524ef7"
      },
      "execution_count": 118,
      "outputs": [
        {
          "output_type": "stream",
          "name": "stderr",
          "text": [
            "/usr/local/lib/python3.7/dist-packages/ipykernel_launcher.py:7: MatplotlibDeprecationWarning: Adding an axes using the same arguments as a previous axes currently reuses the earlier instance.  In a future version, a new instance will always be created and returned.  Meanwhile, this warning can be suppressed, and the future behavior ensured, by passing a unique label to each axes instance.\n",
            "  import sys\n",
            "/usr/local/lib/python3.7/dist-packages/ipykernel_launcher.py:12: MatplotlibDeprecationWarning: Adding an axes using the same arguments as a previous axes currently reuses the earlier instance.  In a future version, a new instance will always be created and returned.  Meanwhile, this warning can be suppressed, and the future behavior ensured, by passing a unique label to each axes instance.\n",
            "  if sys.path[0] == '':\n"
          ]
        },
        {
          "output_type": "display_data",
          "data": {
            "image/png": "[encoded data removed]",
            "text/plain": [
              "<Figure size 432x288 with 2 Axes>"
            ]
          },
          "metadata": {
            "needs_background": "light"
          }
        }
      ]
    },
    {
      "cell_type": "markdown",
      "source": [
        "đánh giá mô hình mới bằng bộ test từ mnist"
      ],
      "metadata": {
        "id": "8XiVRaO0u7la"
      }
    },
    {
      "cell_type": "code",
      "source": [
        "from tensorflow.keras.models import load_model\n",
        "\n",
        "def run_test_harness():\n",
        "\t# load model\n",
        "\tmodel = load_model('final_model_new.h5')\n",
        "\t# evaluate model on test dataset\n",
        "\t_, acc = model.evaluate(testX, testY, verbose=0)\n",
        "\tprint('> %.3f' % (acc * 100.0))\n",
        "\t\n",
        " \n",
        "# entry point, run the test harness\n",
        "run_test_harness()"
      ],
      "metadata": {
        "colab": {
          "base_uri": "https://localhost:8080/"
        },
        "id": "wUOnJCk6u9lx",
        "outputId": "159ea1cd-37a9-4ace-b5ea-38a901f31706"
      },
      "execution_count": 120,
      "outputs": [
        {
          "output_type": "stream",
          "name": "stdout",
          "text": [
            "> 99.230\n"
          ]
        }
      ]
    },
    {
      "cell_type": "markdown",
      "source": [
        "đưa ra dự đoán với mô hình sau khi cải thiện\n",
        "\n",
        "dự đoán 1 bức ảnh đầu vào :"
      ],
      "metadata": {
        "id": "WTH2az2Wz0XK"
      }
    },
    {
      "cell_type": "code",
      "source": [
        "# make a prediction for a new image.\n",
        "from numpy import argmax\n",
        "from keras.preprocessing.image import load_img\n",
        "from keras.preprocessing.image import img_to_array\n",
        "from keras.models import load_model\n",
        "from pandas import DataFrame\n",
        "import numpy as np\n",
        "\n",
        "imgname = 'number 7.png'\n",
        "\n",
        "\n",
        "# load and prepare the image\n",
        "def load_image(filename):\n",
        "\timg = load_img(filename, grayscale=True, target_size=(28, 28))\n",
        "\timg = img_to_array(img)\n",
        "\timg = img.reshape(1, 28, 28, 1)\n",
        "\timg = img.astype('float32')\n",
        "\timg = img / 255.0\n",
        "\treturn img\n",
        " \n",
        "def run_example():\n",
        "\timg = load_image(imgname)\n",
        "\tmodel = load_model('final_model_new.h5')\n",
        "\tpredict_value = model.predict(img)\n",
        "\tdigit = argmax(predict_value)\n",
        " \t\n",
        "\t# plt.imshow(img.reshape(28,28), cmap=plt.get_cmap('gray'))\n",
        "\tprint(predict_value)\n",
        "\tprint(digit)\n",
        "\tdata = list(predict_value)\n",
        "\tnewdata = np.squeeze(data)\n",
        "\n",
        "\tlistnum = ['0','1', '2','3','4','5','6','7','8','9']\n",
        "\tfig = plt.figure(figsize = (10, 7), dpi=80)\n",
        "\tplt.bar(listnum, newdata, color ='maroon',width = 1)\n",
        "\tplt.xlabel(\"Số\")\n",
        "\tplt.ylabel(\"Acc\")\n",
        "\tplt.title(\"Biểu đồ tương quan\")\n",
        "\tplt.show()\n",
        "\n",
        "def show_image():\n",
        "\timg = load_image(imgname)\n",
        "\tplt.imshow(img.reshape(28,28), cmap=plt.get_cmap('gray'))\n",
        " \n",
        "run_example()\n",
        "show_image()"
      ],
      "metadata": {
        "colab": {
          "base_uri": "https://localhost:8080/",
          "height": 840
        },
        "id": "-g-sXMVjz5C0",
        "outputId": "9114eb4a-57b8-47b9-8b11-3376a0b9baec"
      },
      "execution_count": 140,
      "outputs": [
        {
          "output_type": "stream",
          "name": "stderr",
          "text": [
            "/usr/local/lib/python3.7/dist-packages/keras_preprocessing/image/utils.py:107: UserWarning: grayscale is deprecated. Please use color_mode = \"grayscale\"\n",
            "  warnings.warn('grayscale is deprecated. Please use '\n"
          ]
        },
        {
          "output_type": "stream",
          "name": "stdout",
          "text": [
            "[[5.5914279e-10 3.1531465e-03 8.5709698e-04 1.8599633e-07 1.4326252e-05\n",
            "  2.4900528e-09 6.1808181e-10 9.9596715e-01 3.3747713e-07 7.6200590e-06]]\n",
            "7\n"
          ]
        },
        {
          "output_type": "display_data",
          "data": {
            "image/png": "[encoded data removed]",
            "text/plain": [
              "<Figure size 800x560 with 1 Axes>"
            ]
          },
          "metadata": {
            "needs_background": "light"
          }
        },
        {
          "output_type": "display_data",
          "data": {
            "image/png": "[encoded data removed]",
            "text/plain": [
              "<Figure size 432x288 with 1 Axes>"
            ]
          },
          "metadata": {
            "needs_background": "light"
          }
        }
      ]
    }
  ]
}